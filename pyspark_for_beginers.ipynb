{
 "cells": [
  {
   "cell_type": "markdown",
   "metadata": {},
   "source": [
    "# Data Cleaning with PySpark"
   ]
  },
  {
   "cell_type": "code",
   "execution_count": 1,
   "metadata": {},
   "outputs": [],
   "source": [
    "from pyspark.sql import SparkSession\n",
    "from pyspark.sql.functions import col, when, count, regexp_replace, regexp_extract, monotonically_increasing_id\n",
    "\n",
    "\n",
    "spark = SparkSession.builder.appName(\"Data_cleaning\").getOrCreate()"
   ]
  },
  {
   "cell_type": "markdown",
   "metadata": {},
   "source": [
    "## 1. Data Reading and Loading"
   ]
  },
  {
   "cell_type": "code",
   "execution_count": 2,
   "metadata": {},
   "outputs": [],
   "source": [
    "df = spark.read.csv(\"population.csv\", header=True, sep=\";\")"
   ]
  },
  {
   "cell_type": "code",
   "execution_count": 3,
   "metadata": {},
   "outputs": [
    {
     "data": {
      "text/plain": [
       "[Row(postcode='Ned1erland', year='\"n/201\"\"9\"', total='\"1\"\"7n/28n/21\"\"63\"', with_migration_background='\"40861\"\"38\"', of_dutch_origin='\"1\"\"31\"\"960n/25.\"', of_western_migration_origin='\"1\"\"774n/271\"\"\"', afrika='69307n/2', amerika='\"7001\"\"5.5.\"', asia='937304', europe_excluding_dutch_background='\"1\"\"731\"\"779\"', oceania='n/238n/28', belgium='\"1\"\"1\"\"9769\"', germany='\"35.1\"\"5.5.n/2\"', indonesia='358773', morocco='40n/249n/2', former_dutch_antilles_aruba='\"1\"\"61\"\"n/265.\"', poland='\"1\"\"85497\"', suriname='353909', turkey='409877', other_western_migration_background='758680'),\n",
       " Row(postcode='Nede2rland', year='n/20n/20', total='\"1\"\"74075.85.\"', with_migration_background='4n/2n/20705.', of_dutch_origin='\"1\"\"31\"\"86880\"', of_western_migration_origin='\"1\"\"8n/28645.\"', afrika='\"71\"\"473n/2\"', amerika='\"71\"\"9601\"\"\"', asia='969980', europe_excluding_dutch_background='\"1\"\"791\"\"85.0\"', oceania='n/245.4n/2', belgium='\"1\"\"n/21\"\"01\"\"9\"', germany='349n/284', indonesia='3560n/29', morocco='408864', former_dutch_antilles_aruba='\"1\"\"66n/265.\"', poland='\"1\"\"980n/24\"', suriname='35640n/2', turkey='\"41\"\"6864\"', other_western_migration_background='804n/289'),\n",
       " Row(postcode='Nederland#', year='n/20n/21\"\"', total='\"1\"\"7475.41\"\"5.\"', with_migration_background='4305908', of_dutch_origin='\"1\"\"31\"\"695.07\"', of_western_migration_origin='\"1\"\"858730\"', afrika='\"731\"\"444\"', amerika='733401\"\"', asia='985977', europe_excluding_dutch_background='\"1\"\"830696\"', oceania='n/24390', belgium='\"1\"\"n/2n/21\"\"97\"', germany='345746', indonesia='35n/2n/266', morocco='\"41\"\"41\"\"86\"', former_dutch_antilles_aruba='\"1\"\"71\"\"41\"\"3\"', poland='n/209n/278', suriname='358n/266', turkey='4n/2n/2030', other_western_migration_background='8n/29n/243')]"
      ]
     },
     "execution_count": 3,
     "metadata": {},
     "output_type": "execute_result"
    }
   ],
   "source": [
    "df.take(3)"
   ]
  },
  {
   "cell_type": "code",
   "execution_count": 4,
   "metadata": {},
   "outputs": [
    {
     "name": "stdout",
     "output_type": "stream",
     "text": [
      "+----------+----------+------------------+-------------------------+-----------------+---------------------------+------------+------------+------+---------------------------------+----------+----------------+---------------+----------+------------+---------------------------+------------+--------+----------+----------------------------------+\n",
      "|  postcode|      year|             total|with_migration_background|  of_dutch_origin|of_western_migration_origin|      afrika|     amerika|  asia|europe_excluding_dutch_background|   oceania|         belgium|        germany| indonesia|     morocco|former_dutch_antilles_aruba|      poland|suriname|    turkey|other_western_migration_background|\n",
      "+----------+----------+------------------+-------------------------+-----------------+---------------------------+------------+------------+------+---------------------------------+----------+----------------+---------------+----------+------------+---------------------------+------------+--------+----------+----------------------------------+\n",
      "|Ned1erland|\"n/201\"\"9\"|\"1\"\"7n/28n/21\"\"63\"|              \"40861\"\"38\"|\"1\"\"31\"\"960n/25.\"|            \"1\"\"774n/271\"\"\"|    69307n/2|\"7001\"\"5.5.\"|937304|                    \"1\"\"731\"\"779\"| n/238n/28|    \"1\"\"1\"\"9769\"|\"35.1\"\"5.5.n/2\"|    358773|  40n/249n/2|            \"1\"\"61\"\"n/265.\"|  \"1\"\"85497\"|  353909|    409877|                            758680|\n",
      "|Nede2rland|  n/20n/20|    \"1\"\"74075.85.\"|             4n/2n/20705.|   \"1\"\"31\"\"86880\"|             \"1\"\"8n/28645.\"|\"71\"\"473n/2\"|\"71\"\"9601\"\"\"|969980|                   \"1\"\"791\"\"85.0\"|n/245.4n/2|\"1\"\"n/21\"\"01\"\"9\"|       349n/284|  3560n/29|      408864|              \"1\"\"66n/265.\"|\"1\"\"980n/24\"|35640n/2|\"41\"\"6864\"|                          804n/289|\n",
      "|Nederland#|n/20n/21\"\"|  \"1\"\"7475.41\"\"5.\"|                  4305908|  \"1\"\"31\"\"695.07\"|                \"1\"\"858730\"|  \"731\"\"444\"|    733401\"\"|985977|                      \"1\"\"830696\"|   n/24390|\"1\"\"n/2n/21\"\"97\"|         345746|35n/2n/266|\"41\"\"41\"\"86\"|             \"1\"\"71\"\"41\"\"3\"|  n/209n/278|358n/266|4n/2n/2030|                        8n/29n/243|\n",
      "+----------+----------+------------------+-------------------------+-----------------+---------------------------+------------+------------+------+---------------------------------+----------+----------------+---------------+----------+------------+---------------------------+------------+--------+----------+----------------------------------+\n",
      "only showing top 3 rows\n",
      "\n"
     ]
    }
   ],
   "source": [
    "df.show(3)"
   ]
  },
  {
   "cell_type": "code",
   "execution_count": null,
   "metadata": {},
   "outputs": [],
   "source": [
    "df.collect()"
   ]
  },
  {
   "cell_type": "markdown",
   "metadata": {},
   "source": [
    "## 2. Data Description"
   ]
  },
  {
   "cell_type": "code",
   "execution_count": 6,
   "metadata": {},
   "outputs": [
    {
     "name": "stdout",
     "output_type": "stream",
     "text": [
      "root\n",
      " |-- postcode: string (nullable = true)\n",
      " |-- year: string (nullable = true)\n",
      " |-- total: string (nullable = true)\n",
      " |-- with_migration_background: string (nullable = true)\n",
      " |-- of_dutch_origin: string (nullable = true)\n",
      " |-- of_western_migration_origin: string (nullable = true)\n",
      " |-- afrika: string (nullable = true)\n",
      " |-- amerika: string (nullable = true)\n",
      " |-- asia: string (nullable = true)\n",
      " |-- europe_excluding_dutch_background: string (nullable = true)\n",
      " |-- oceania: string (nullable = true)\n",
      " |-- belgium: string (nullable = true)\n",
      " |-- germany: string (nullable = true)\n",
      " |-- indonesia: string (nullable = true)\n",
      " |-- morocco: string (nullable = true)\n",
      " |-- former_dutch_antilles_aruba: string (nullable = true)\n",
      " |-- poland: string (nullable = true)\n",
      " |-- suriname: string (nullable = true)\n",
      " |-- turkey: string (nullable = true)\n",
      " |-- other_western_migration_background: string (nullable = true)\n",
      "\n"
     ]
    }
   ],
   "source": [
    "df.printSchema()"
   ]
  },
  {
   "cell_type": "code",
   "execution_count": 7,
   "metadata": {},
   "outputs": [
    {
     "data": {
      "text/plain": [
       "['postcode',\n",
       " 'year',\n",
       " 'total',\n",
       " 'with_migration_background',\n",
       " 'of_dutch_origin',\n",
       " 'of_western_migration_origin',\n",
       " 'afrika',\n",
       " 'amerika',\n",
       " 'asia',\n",
       " 'europe_excluding_dutch_background',\n",
       " 'oceania',\n",
       " 'belgium',\n",
       " 'germany',\n",
       " 'indonesia',\n",
       " 'morocco',\n",
       " 'former_dutch_antilles_aruba',\n",
       " 'poland',\n",
       " 'suriname',\n",
       " 'turkey',\n",
       " 'other_western_migration_background']"
      ]
     },
     "execution_count": 7,
     "metadata": {},
     "output_type": "execute_result"
    }
   ],
   "source": [
    "df.columns"
   ]
  },
  {
   "cell_type": "code",
   "execution_count": 8,
   "metadata": {},
   "outputs": [
    {
     "data": {
      "text/plain": [
       "['postcode',\n",
       " 'year',\n",
       " 'total',\n",
       " 'with_migration_background',\n",
       " 'of_dutch_origin',\n",
       " 'of_western_migration_origin',\n",
       " 'afrika',\n",
       " 'amerika',\n",
       " 'asia',\n",
       " 'europe_excluding_dutch_background',\n",
       " 'oceania',\n",
       " 'belgium',\n",
       " 'germany',\n",
       " 'indonesia',\n",
       " 'morocco',\n",
       " 'former_dutch_antilles_aruba',\n",
       " 'poland',\n",
       " 'suriname',\n",
       " 'turkey',\n",
       " 'other_western_migration_background']"
      ]
     },
     "execution_count": 8,
     "metadata": {},
     "output_type": "execute_result"
    }
   ],
   "source": [
    "df.schema.names"
   ]
  },
  {
   "cell_type": "code",
   "execution_count": 9,
   "metadata": {},
   "outputs": [
    {
     "data": {
      "text/plain": [
       "DataFrame[summary: string, postcode: string, year: string, total: string, with_migration_background: string, of_dutch_origin: string, of_western_migration_origin: string, afrika: string, amerika: string, asia: string, europe_excluding_dutch_background: string, oceania: string, belgium: string, germany: string, indonesia: string, morocco: string, former_dutch_antilles_aruba: string, poland: string, suriname: string, turkey: string, other_western_migration_background: string]"
      ]
     },
     "execution_count": 9,
     "metadata": {},
     "output_type": "execute_result"
    }
   ],
   "source": [
    "df.describe()"
   ]
  },
  {
   "cell_type": "code",
   "execution_count": 10,
   "metadata": {},
   "outputs": [
    {
     "name": "stdout",
     "output_type": "stream",
     "text": [
      "+-------+------------+----------+-----------------+-------------------------+------------------+---------------------------+-----------------+------------------+------------------+---------------------------------+------------------+------------------+------------------+-----------------+------------------+---------------------------+------------------+------------------+------------------+----------------------------------+\n",
      "|summary|    postcode|      year|            total|with_migration_background|   of_dutch_origin|of_western_migration_origin|           afrika|           amerika|              asia|europe_excluding_dutch_background|           oceania|           belgium|           germany|        indonesia|           morocco|former_dutch_antilles_aruba|            poland|          suriname|            turkey|other_western_migration_background|\n",
      "+-------+------------+----------+-----------------+-------------------------+------------------+---------------------------+-----------------+------------------+------------------+---------------------------------+------------------+------------------+------------------+-----------------+------------------+---------------------------+------------------+------------------+------------------+----------------------------------+\n",
      "|  count|       12233|     12233|            12180|                    12180|             12180|                      12180|            12180|             12180|             12180|                            12180|             12180|             12180|             12180|            12180|             12180|                      12180|             12180|             12180|             12180|                             12180|\n",
      "|   mean|    Infinity|      NULL|4118.557599148257|        3405.741702341984|3699.4259780534394|          430.3132949166495|267.6456534460338|168.96015283842794| 794.7123695976155|                422.6143487858719|4.5307674031836545| 33.28999862429495|193.94794520547944|219.9127464376342|140.43112224177608|         36.706136333900304| 53.52012383900929|119.52221002059026|  130.591828232439|                 522.4003600530605|\n",
      "| stddev|         NaN|      NULL|3318.479989271411|        98119.74242267475|2998.7788718704765|          589.5673186495909|9564.661495432914|464.35392166208896|22796.373623641393|                684.2471326058574| 11.03068253280046|63.622900843024595| 6543.541183262764|6966.090887368133| 4762.550554253118|          97.45626387522195|100.71251224606556|4153.6651815338255|4764.8656979580055|                15919.708876462133|\n",
      "|    min|\"1\"\"01\"\"1\"\"\"|\"n/201\"\"9\"|  \"1\"\".05.1\"\"930\"|          \"1\"\".05.1\"\"930\"|   \"1\"\".05.1\"\"930\"|            \"1\"\".05.1\"\"930\"|  \"1\"\".05.1\"\"930\"|   \"1\"\".05.1\"\"930\"|   \"1\"\".05.1\"\"930\"|                  \"1\"\".05.1\"\"930\"|            \"1\"\"0\"|   \"1\"\".05.1\"\"930\"|   \"1\"\".05.1\"\"930\"|  \"1\"\".05.1\"\"930\"|   \"1\"\".05.1\"\"930\"|            \"1\"\".05.1\"\"930\"|   \"1\"\".05.1\"\"930\"|   \"1\"\".05.1\"\"930\"|   \"1\"\".05.1\"\"930\"|                   \"1\"\".05.1\"\"930\"|\n",
      "|    max|n/2n/2n/2n/2|n/20n/2n/2|     n/2n/2n/265.|              n/2n/2n/25.|       n/2n/2n/25.|                n/2n/2n/25.|      n/2n/2n/25.|       n/2n/2n/25.|        n/2n/2n/20|                      n/2n/2n/25.|           n/25008|          n/2n/25.|          n/2n/25.|         n/2n/25.|       n/2n/2n/25.|                   n/2n/25.|          n/2n/25.|          n/2n/25.|         n/2n/285.|                       n/2n/2n/25.|\n",
      "+-------+------------+----------+-----------------+-------------------------+------------------+---------------------------+-----------------+------------------+------------------+---------------------------------+------------------+------------------+------------------+-----------------+------------------+---------------------------+------------------+------------------+------------------+----------------------------------+\n",
      "\n"
     ]
    }
   ],
   "source": [
    "df.describe().show()"
   ]
  },
  {
   "cell_type": "code",
   "execution_count": 11,
   "metadata": {},
   "outputs": [
    {
     "name": "stdout",
     "output_type": "stream",
     "text": [
      "+-------+------------+----------+-----------------+-------------------------+------------------+---------------------------+-----------------+------------------+------------------+---------------------------------+------------------+------------------+------------------+-----------------+------------------+---------------------------+------------------+------------------+------------------+----------------------------------+\n",
      "|summary|    postcode|      year|            total|with_migration_background|   of_dutch_origin|of_western_migration_origin|           afrika|           amerika|              asia|europe_excluding_dutch_background|           oceania|           belgium|           germany|        indonesia|           morocco|former_dutch_antilles_aruba|            poland|          suriname|            turkey|other_western_migration_background|\n",
      "+-------+------------+----------+-----------------+-------------------------+------------------+---------------------------+-----------------+------------------+------------------+---------------------------------+------------------+------------------+------------------+-----------------+------------------+---------------------------+------------------+------------------+------------------+----------------------------------+\n",
      "|  count|       12233|     12233|            12180|                    12180|             12180|                      12180|            12180|             12180|             12180|                            12180|             12180|             12180|             12180|            12180|             12180|                      12180|             12180|             12180|             12180|                             12180|\n",
      "|   mean|    Infinity|      NULL|4118.557599148257|        3405.741702341984|3699.4259780534394|          430.3132949166495|267.6456534460338|168.96015283842794| 794.7123695976155|                422.6143487858719|4.5307674031836545| 33.28999862429495|193.94794520547944|219.9127464376342|140.43112224177608|         36.706136333900304| 53.52012383900929|119.52221002059026|  130.591828232439|                 522.4003600530605|\n",
      "| stddev|         NaN|      NULL|3318.479989271411|        98119.74242267475|2998.7788718704765|          589.5673186495909|9564.661495432914|464.35392166208896|22796.373623641393|                684.2471326058574| 11.03068253280046|63.622900843024595| 6543.541183262764|6966.090887368133| 4762.550554253118|          97.45626387522195|100.71251224606556|4153.6651815338255|4764.8656979580055|                15919.708876462133|\n",
      "|    min|\"1\"\"01\"\"1\"\"\"|\"n/201\"\"9\"|  \"1\"\".05.1\"\"930\"|          \"1\"\".05.1\"\"930\"|   \"1\"\".05.1\"\"930\"|            \"1\"\".05.1\"\"930\"|  \"1\"\".05.1\"\"930\"|   \"1\"\".05.1\"\"930\"|   \"1\"\".05.1\"\"930\"|                  \"1\"\".05.1\"\"930\"|            \"1\"\"0\"|   \"1\"\".05.1\"\"930\"|   \"1\"\".05.1\"\"930\"|  \"1\"\".05.1\"\"930\"|   \"1\"\".05.1\"\"930\"|            \"1\"\".05.1\"\"930\"|   \"1\"\".05.1\"\"930\"|   \"1\"\".05.1\"\"930\"|   \"1\"\".05.1\"\"930\"|                   \"1\"\".05.1\"\"930\"|\n",
      "|    25%|      3089.0|      NULL|            665.0|                     65.0|             645.0|                       60.0|              5.0|               5.0|              30.0|                             45.0|               0.0|               5.0|               5.0|              5.0|               0.0|                        0.0|               5.0|               0.0|               0.0|                              30.0|\n",
      "|    50%|      4364.0|      NULL|           4045.0|                    380.0|            3865.0|                      345.0|             30.0|              35.0|              75.0|                            300.0|               0.0|              30.0|              40.0|             35.0|               5.0|                        5.0|              35.0|               5.0|               5.0|                              65.0|\n",
      "|    75%|      5434.0|      NULL|           7005.0|                    890.0|            6305.0|                      690.0|             85.0|              90.0|             440.0|                            665.0|               5.0|              45.0|              75.0|             80.0|              45.0|                       40.0|              65.0|              45.0|              40.0|                             380.0|\n",
      "|    max|n/2n/2n/2n/2|n/20n/2n/2|     n/2n/2n/265.|              n/2n/2n/25.|       n/2n/2n/25.|                n/2n/2n/25.|      n/2n/2n/25.|       n/2n/2n/25.|        n/2n/2n/20|                      n/2n/2n/25.|           n/25008|          n/2n/25.|          n/2n/25.|         n/2n/25.|       n/2n/2n/25.|                   n/2n/25.|          n/2n/25.|          n/2n/25.|         n/2n/285.|                       n/2n/2n/25.|\n",
      "+-------+------------+----------+-----------------+-------------------------+------------------+---------------------------+-----------------+------------------+------------------+---------------------------------+------------------+------------------+------------------+-----------------+------------------+---------------------------+------------------+------------------+------------------+----------------------------------+\n",
      "\n"
     ]
    }
   ],
   "source": [
    "df.summary().show()"
   ]
  },
  {
   "cell_type": "code",
   "execution_count": 12,
   "metadata": {},
   "outputs": [
    {
     "data": {
      "text/plain": [
       "12233"
      ]
     },
     "execution_count": 12,
     "metadata": {},
     "output_type": "execute_result"
    }
   ],
   "source": [
    "df.count()"
   ]
  },
  {
   "cell_type": "code",
   "execution_count": 13,
   "metadata": {},
   "outputs": [
    {
     "data": {
      "text/plain": [
       "20"
      ]
     },
     "execution_count": 13,
     "metadata": {},
     "output_type": "execute_result"
    }
   ],
   "source": [
    "len(df.columns)"
   ]
  },
  {
   "cell_type": "markdown",
   "metadata": {},
   "source": [
    "## 3. Handling Missing Data"
   ]
  },
  {
   "cell_type": "code",
   "execution_count": 14,
   "metadata": {},
   "outputs": [
    {
     "data": {
      "text/plain": [
       "12180"
      ]
     },
     "execution_count": 14,
     "metadata": {},
     "output_type": "execute_result"
    }
   ],
   "source": [
    "df.filter(col(\"with_migration_background\").isNotNull()).count()"
   ]
  },
  {
   "cell_type": "code",
   "execution_count": 15,
   "metadata": {},
   "outputs": [
    {
     "data": {
      "text/plain": [
       "53"
      ]
     },
     "execution_count": 15,
     "metadata": {},
     "output_type": "execute_result"
    }
   ],
   "source": [
    "df.filter(col(\"with_migration_background\").isNull()).count()"
   ]
  },
  {
   "cell_type": "code",
   "execution_count": 16,
   "metadata": {},
   "outputs": [
    {
     "data": {
      "text/plain": [
       "['postcode',\n",
       " 'year',\n",
       " 'total',\n",
       " 'with_migration_background',\n",
       " 'of_dutch_origin',\n",
       " 'of_western_migration_origin',\n",
       " 'afrika',\n",
       " 'amerika',\n",
       " 'asia',\n",
       " 'europe_excluding_dutch_background',\n",
       " 'oceania',\n",
       " 'belgium',\n",
       " 'germany',\n",
       " 'indonesia',\n",
       " 'morocco',\n",
       " 'former_dutch_antilles_aruba',\n",
       " 'poland',\n",
       " 'suriname',\n",
       " 'turkey',\n",
       " 'other_western_migration_background']"
      ]
     },
     "execution_count": 16,
     "metadata": {},
     "output_type": "execute_result"
    }
   ],
   "source": [
    "df.columns"
   ]
  },
  {
   "cell_type": "code",
   "execution_count": 17,
   "metadata": {},
   "outputs": [
    {
     "name": "stdout",
     "output_type": "stream",
     "text": [
      "postcode : 0\n",
      "year : 0\n",
      "total : 53\n",
      "with_migration_background : 53\n",
      "of_dutch_origin : 53\n",
      "of_western_migration_origin : 53\n",
      "afrika : 53\n",
      "amerika : 53\n",
      "asia : 53\n",
      "europe_excluding_dutch_background : 53\n",
      "oceania : 53\n",
      "belgium : 53\n",
      "germany : 53\n",
      "indonesia : 53\n",
      "morocco : 53\n",
      "former_dutch_antilles_aruba : 53\n",
      "poland : 53\n",
      "suriname : 53\n",
      "turkey : 53\n",
      "other_western_migration_background : 53\n"
     ]
    }
   ],
   "source": [
    "for i in df.columns:\n",
    "    print(f\"{i} : {df.filter(col(i).isNull()).count()}\")"
   ]
  },
  {
   "cell_type": "code",
   "execution_count": 18,
   "metadata": {},
   "outputs": [
    {
     "name": "stdout",
     "output_type": "stream",
     "text": [
      "+----------+----------+------------------+-------------------------+-----------------+---------------------------+------------+------------+------+---------------------------------+----------+----------------+---------------+----------+------------+---------------------------+------------+--------+----------+----------------------------------+\n",
      "|  postcode|      year|             total|with_migration_background|  of_dutch_origin|of_western_migration_origin|      afrika|     amerika|  asia|europe_excluding_dutch_background|   oceania|         belgium|        germany| indonesia|     morocco|former_dutch_antilles_aruba|      poland|suriname|    turkey|other_western_migration_background|\n",
      "+----------+----------+------------------+-------------------------+-----------------+---------------------------+------------+------------+------+---------------------------------+----------+----------------+---------------+----------+------------+---------------------------+------------+--------+----------+----------------------------------+\n",
      "|Ned1erland|\"n/201\"\"9\"|\"1\"\"7n/28n/21\"\"63\"|              \"40861\"\"38\"|\"1\"\"31\"\"960n/25.\"|            \"1\"\"774n/271\"\"\"|    69307n/2|\"7001\"\"5.5.\"|937304|                    \"1\"\"731\"\"779\"| n/238n/28|    \"1\"\"1\"\"9769\"|\"35.1\"\"5.5.n/2\"|    358773|  40n/249n/2|            \"1\"\"61\"\"n/265.\"|  \"1\"\"85497\"|  353909|    409877|                            758680|\n",
      "|Nede2rland|  n/20n/20|    \"1\"\"74075.85.\"|             4n/2n/20705.|   \"1\"\"31\"\"86880\"|             \"1\"\"8n/28645.\"|\"71\"\"473n/2\"|\"71\"\"9601\"\"\"|969980|                   \"1\"\"791\"\"85.0\"|n/245.4n/2|\"1\"\"n/21\"\"01\"\"9\"|       349n/284|  3560n/29|      408864|              \"1\"\"66n/265.\"|\"1\"\"980n/24\"|35640n/2|\"41\"\"6864\"|                          804n/289|\n",
      "|Nederland#|n/20n/21\"\"|  \"1\"\"7475.41\"\"5.\"|                  4305908|  \"1\"\"31\"\"695.07\"|                \"1\"\"858730\"|  \"731\"\"444\"|    733401\"\"|985977|                      \"1\"\"830696\"|   n/24390|\"1\"\"n/2n/21\"\"97\"|         345746|35n/2n/266|\"41\"\"41\"\"86\"|             \"1\"\"71\"\"41\"\"3\"|  n/209n/278|358n/266|4n/2n/2030|                        8n/29n/243|\n",
      "+----------+----------+------------------+-------------------------+-----------------+---------------------------+------------+------------+------+---------------------------------+----------+----------------+---------------+----------+------------+---------------------------+------------+--------+----------+----------------------------------+\n",
      "only showing top 3 rows\n",
      "\n"
     ]
    }
   ],
   "source": [
    "df = df.fillna(\"deleting\")\n",
    "df.show(3)"
   ]
  },
  {
   "cell_type": "code",
   "execution_count": 19,
   "metadata": {},
   "outputs": [
    {
     "data": {
      "text/plain": [
       "12233"
      ]
     },
     "execution_count": 19,
     "metadata": {},
     "output_type": "execute_result"
    }
   ],
   "source": [
    "df.count()"
   ]
  },
  {
   "cell_type": "markdown",
   "metadata": {},
   "source": [
    "## 4. Data Filtering and Cleaning"
   ]
  },
  {
   "cell_type": "code",
   "execution_count": 20,
   "metadata": {},
   "outputs": [
    {
     "name": "stdout",
     "output_type": "stream",
     "text": [
      "+------------+----------+--------+-------------------------+---------------+---------------------------+--------+--------+--------+---------------------------------+--------+--------+--------+---------+--------+---------------------------+--------+--------+--------+----------------------------------+\n",
      "|    postcode|      year|   total|with_migration_background|of_dutch_origin|of_western_migration_origin|  afrika| amerika|    asia|europe_excluding_dutch_background| oceania| belgium| germany|indonesia| morocco|former_dutch_antilles_aruba|  poland|suriname|  turkey|other_western_migration_background|\n",
      "+------------+----------+--------+-------------------------+---------------+---------------------------+--------+--------+--------+---------------------------------+--------+--------+--------+---------+--------+---------------------------+--------+--------+--------+----------------------------------+\n",
      "|    \"1\"\"044\"|n/20n/21\"\"|deleting|                 deleting|       deleting|                   deleting|deleting|deleting|deleting|                         deleting|deleting|deleting|deleting| deleting|deleting|                   deleting|deleting|deleting|deleting|                          deleting|\n",
      "|    \"1\"\"044\"|n/20n/2n/2|deleting|                 deleting|       deleting|                   deleting|deleting|deleting|deleting|                         deleting|deleting|deleting|deleting| deleting|deleting|                   deleting|deleting|deleting|deleting|                          deleting|\n",
      "|    \"1\"\"044\"|  n/20n/23|deleting|                 deleting|       deleting|                   deleting|deleting|deleting|deleting|                         deleting|deleting|deleting|deleting| deleting|deleting|                   deleting|deleting|deleting|deleting|                          deleting|\n",
      "|   \"1\"\"045.\"|n/20n/2n/2|deleting|                 deleting|       deleting|                   deleting|deleting|deleting|deleting|                         deleting|deleting|deleting|deleting| deleting|deleting|                   deleting|deleting|deleting|deleting|                          deleting|\n",
      "|    \"1\"\"099\"|\"n/201\"\"9\"|deleting|                 deleting|       deleting|                   deleting|deleting|deleting|deleting|                         deleting|deleting|deleting|deleting| deleting|deleting|                   deleting|deleting|deleting|deleting|                          deleting|\n",
      "|    \"1\"\"099\"|  n/20n/20|deleting|                 deleting|       deleting|                   deleting|deleting|deleting|deleting|                         deleting|deleting|deleting|deleting| deleting|deleting|                   deleting|deleting|deleting|deleting|                          deleting|\n",
      "|    \"1\"\"099\"|n/20n/21\"\"|deleting|                 deleting|       deleting|                   deleting|deleting|deleting|deleting|                         deleting|deleting|deleting|deleting| deleting|deleting|                   deleting|deleting|deleting|deleting|                          deleting|\n",
      "|    \"1\"\"099\"|n/20n/2n/2|deleting|                 deleting|       deleting|                   deleting|deleting|deleting|deleting|                         deleting|deleting|deleting|deleting| deleting|deleting|                   deleting|deleting|deleting|deleting|                          deleting|\n",
      "|    \"1\"\"099\"|  n/20n/23|deleting|                 deleting|       deleting|                   deleting|deleting|deleting|deleting|                         deleting|deleting|deleting|deleting| deleting|deleting|                   deleting|deleting|deleting|deleting|                          deleting|\n",
      "|\"1\"\"1\"\"1\"\"7\"|\"n/201\"\"9\"|deleting|                 deleting|       deleting|                   deleting|deleting|deleting|deleting|                         deleting|deleting|deleting|deleting| deleting|deleting|                   deleting|deleting|deleting|deleting|                          deleting|\n",
      "|\"1\"\"3n/2n/2\"|\"n/201\"\"9\"|deleting|                 deleting|       deleting|                   deleting|deleting|deleting|deleting|                         deleting|deleting|deleting|deleting| deleting|deleting|                   deleting|deleting|deleting|deleting|                          deleting|\n",
      "|\"1\"\"3n/2n/2\"|  n/20n/20|deleting|                 deleting|       deleting|                   deleting|deleting|deleting|deleting|                         deleting|deleting|deleting|deleting| deleting|deleting|                   deleting|deleting|deleting|deleting|                          deleting|\n",
      "|\"1\"\"3n/2n/2\"|n/20n/21\"\"|deleting|                 deleting|       deleting|                   deleting|deleting|deleting|deleting|                         deleting|deleting|deleting|deleting| deleting|deleting|                   deleting|deleting|deleting|deleting|                          deleting|\n",
      "|\"1\"\"3n/2n/2\"|n/20n/2n/2|deleting|                 deleting|       deleting|                   deleting|deleting|deleting|deleting|                         deleting|deleting|deleting|deleting| deleting|deleting|                   deleting|deleting|deleting|deleting|                          deleting|\n",
      "|  \"1\"\"3n/27\"|\"n/201\"\"9\"|deleting|                 deleting|       deleting|                   deleting|deleting|deleting|deleting|                         deleting|deleting|deleting|deleting| deleting|deleting|                   deleting|deleting|deleting|deleting|                          deleting|\n",
      "|  \"1\"\"3n/29\"|\"n/201\"\"9\"|deleting|                 deleting|       deleting|                   deleting|deleting|deleting|deleting|                         deleting|deleting|deleting|deleting| deleting|deleting|                   deleting|deleting|deleting|deleting|                          deleting|\n",
      "|  \"1\"\"3n/29\"|  n/20n/20|deleting|                 deleting|       deleting|                   deleting|deleting|deleting|deleting|                         deleting|deleting|deleting|deleting| deleting|deleting|                   deleting|deleting|deleting|deleting|                          deleting|\n",
      "|  \"1\"\"3n/29\"|n/20n/21\"\"|deleting|                 deleting|       deleting|                   deleting|deleting|deleting|deleting|                         deleting|deleting|deleting|deleting| deleting|deleting|                   deleting|deleting|deleting|deleting|                          deleting|\n",
      "|  \"1\"\"3n/29\"|n/20n/2n/2|deleting|                 deleting|       deleting|                   deleting|deleting|deleting|deleting|                         deleting|deleting|deleting|deleting| deleting|deleting|                   deleting|deleting|deleting|deleting|                          deleting|\n",
      "|  \"1\"\"3n/29\"|  n/20n/23|deleting|                 deleting|       deleting|                   deleting|deleting|deleting|deleting|                         deleting|deleting|deleting|deleting| deleting|deleting|                   deleting|deleting|deleting|deleting|                          deleting|\n",
      "+------------+----------+--------+-------------------------+---------------+---------------------------+--------+--------+--------+---------------------------------+--------+--------+--------+---------+--------+---------------------------+--------+--------+--------+----------------------------------+\n",
      "only showing top 20 rows\n",
      "\n"
     ]
    }
   ],
   "source": [
    "df.filter(col(\"total\") == \"deleting\").show()"
   ]
  },
  {
   "cell_type": "code",
   "execution_count": 21,
   "metadata": {},
   "outputs": [
    {
     "data": {
      "text/plain": [
       "DataFrame[postcode: string, year: string, total: string, with_migration_background: string, of_dutch_origin: string, of_western_migration_origin: string, afrika: string, amerika: string, asia: string, europe_excluding_dutch_background: string, oceania: string, belgium: string, germany: string, indonesia: string, morocco: string, former_dutch_antilles_aruba: string, poland: string, suriname: string, turkey: string, other_western_migration_background: string]"
      ]
     },
     "execution_count": 21,
     "metadata": {},
     "output_type": "execute_result"
    }
   ],
   "source": [
    "df.drop(col(\"total\") == \"deleting\")"
   ]
  },
  {
   "cell_type": "code",
   "execution_count": 22,
   "metadata": {},
   "outputs": [
    {
     "data": {
      "text/plain": [
       "53"
      ]
     },
     "execution_count": 22,
     "metadata": {},
     "output_type": "execute_result"
    }
   ],
   "source": [
    "df.filter(col(\"total\") == \"deleting\").count()"
   ]
  },
  {
   "cell_type": "code",
   "execution_count": 23,
   "metadata": {},
   "outputs": [
    {
     "data": {
      "text/plain": [
       "53"
      ]
     },
     "execution_count": 23,
     "metadata": {},
     "output_type": "execute_result"
    }
   ],
   "source": [
    "df.filter(col(\"with_migration_background\") == \"deleting\").count()"
   ]
  },
  {
   "cell_type": "code",
   "execution_count": 24,
   "metadata": {},
   "outputs": [
    {
     "data": {
      "text/plain": [
       "12233"
      ]
     },
     "execution_count": 24,
     "metadata": {},
     "output_type": "execute_result"
    }
   ],
   "source": [
    "df.count()"
   ]
  },
  {
   "cell_type": "code",
   "execution_count": 25,
   "metadata": {},
   "outputs": [],
   "source": [
    "df = df.where(df.total != \"deleting\")"
   ]
  },
  {
   "cell_type": "code",
   "execution_count": 26,
   "metadata": {},
   "outputs": [
    {
     "name": "stdout",
     "output_type": "stream",
     "text": [
      "+--------+----+-----+-------------------------+---------------+---------------------------+------+-------+----+---------------------------------+-------+-------+-------+---------+-------+---------------------------+------+--------+------+----------------------------------+\n",
      "|postcode|year|total|with_migration_background|of_dutch_origin|of_western_migration_origin|afrika|amerika|asia|europe_excluding_dutch_background|oceania|belgium|germany|indonesia|morocco|former_dutch_antilles_aruba|poland|suriname|turkey|other_western_migration_background|\n",
      "+--------+----+-----+-------------------------+---------------+---------------------------+------+-------+----+---------------------------------+-------+-------+-------+---------+-------+---------------------------+------+--------+------+----------------------------------+\n",
      "+--------+----+-----+-------------------------+---------------+---------------------------+------+-------+----+---------------------------------+-------+-------+-------+---------+-------+---------------------------+------+--------+------+----------------------------------+\n",
      "\n"
     ]
    }
   ],
   "source": [
    "df.filter(col(\"total\") == \"deleting\").show()"
   ]
  },
  {
   "cell_type": "code",
   "execution_count": 27,
   "metadata": {},
   "outputs": [
    {
     "name": "stdout",
     "output_type": "stream",
     "text": [
      "+--------+----+-----+-------------------------+---------------+---------------------------+------+-------+----+---------------------------------+-------+-------+-------+---------+-------+---------------------------+------+--------+------+----------------------------------+\n",
      "|postcode|year|total|with_migration_background|of_dutch_origin|of_western_migration_origin|afrika|amerika|asia|europe_excluding_dutch_background|oceania|belgium|germany|indonesia|morocco|former_dutch_antilles_aruba|poland|suriname|turkey|other_western_migration_background|\n",
      "+--------+----+-----+-------------------------+---------------+---------------------------+------+-------+----+---------------------------------+-------+-------+-------+---------+-------+---------------------------+------+--------+------+----------------------------------+\n",
      "|       0|   0|    0|                        0|              0|                          0|     0|      0|   0|                                0|      0|      0|      0|        0|      0|                          0|     0|       0|     0|                                 0|\n",
      "+--------+----+-----+-------------------------+---------------+---------------------------+------+-------+----+---------------------------------+-------+-------+-------+---------+-------+---------------------------+------+--------+------+----------------------------------+\n",
      "\n"
     ]
    }
   ],
   "source": [
    "df.select([count(when(col(c).isNull(), c)).alias(c) for c in df.columns]).show()"
   ]
  },
  {
   "cell_type": "markdown",
   "metadata": {},
   "source": [
    "## 5. Data Manipulation"
   ]
  },
  {
   "cell_type": "code",
   "execution_count": 28,
   "metadata": {},
   "outputs": [
    {
     "name": "stdout",
     "output_type": "stream",
     "text": [
      "+----------+----------+------------------+-------------------------+-----------------+---------------------------+------------+------------+------+---------------------------------+----------+----------------+---------------+----------+------------+---------------------------+------------+--------+----------+----------------------------------+-----+\n",
      "|  postcode|      year|             total|with_migration_background|  of_dutch_origin|of_western_migration_origin|      afrika|     amerika|  asia|europe_excluding_dutch_background|   oceania|         belgium|        germany| indonesia|     morocco|former_dutch_antilles_aruba|      poland|suriname|    turkey|other_western_migration_background|index|\n",
      "+----------+----------+------------------+-------------------------+-----------------+---------------------------+------------+------------+------+---------------------------------+----------+----------------+---------------+----------+------------+---------------------------+------------+--------+----------+----------------------------------+-----+\n",
      "|Ned1erland|\"n/201\"\"9\"|\"1\"\"7n/28n/21\"\"63\"|              \"40861\"\"38\"|\"1\"\"31\"\"960n/25.\"|            \"1\"\"774n/271\"\"\"|    69307n/2|\"7001\"\"5.5.\"|937304|                    \"1\"\"731\"\"779\"| n/238n/28|    \"1\"\"1\"\"9769\"|\"35.1\"\"5.5.n/2\"|    358773|  40n/249n/2|            \"1\"\"61\"\"n/265.\"|  \"1\"\"85497\"|  353909|    409877|                            758680|    0|\n",
      "|Nede2rland|  n/20n/20|    \"1\"\"74075.85.\"|             4n/2n/20705.|   \"1\"\"31\"\"86880\"|             \"1\"\"8n/28645.\"|\"71\"\"473n/2\"|\"71\"\"9601\"\"\"|969980|                   \"1\"\"791\"\"85.0\"|n/245.4n/2|\"1\"\"n/21\"\"01\"\"9\"|       349n/284|  3560n/29|      408864|              \"1\"\"66n/265.\"|\"1\"\"980n/24\"|35640n/2|\"41\"\"6864\"|                          804n/289|    1|\n",
      "|Nederland#|n/20n/21\"\"|  \"1\"\"7475.41\"\"5.\"|                  4305908|  \"1\"\"31\"\"695.07\"|                \"1\"\"858730\"|  \"731\"\"444\"|    733401\"\"|985977|                      \"1\"\"830696\"|   n/24390|\"1\"\"n/2n/21\"\"97\"|         345746|35n/2n/266|\"41\"\"41\"\"86\"|             \"1\"\"71\"\"41\"\"3\"|  n/209n/278|358n/266|4n/2n/2030|                        8n/29n/243|    2|\n",
      "+----------+----------+------------------+-------------------------+-----------------+---------------------------+------------+------------+------+---------------------------------+----------+----------------+---------------+----------+------------+---------------------------+------------+--------+----------+----------------------------------+-----+\n",
      "only showing top 3 rows\n",
      "\n"
     ]
    }
   ],
   "source": [
    "df = df.withColumn(\"index\", monotonically_increasing_id())\n",
    "df.show(3)"
   ]
  },
  {
   "cell_type": "code",
   "execution_count": 29,
   "metadata": {},
   "outputs": [],
   "source": [
    "column_list = df.columns[:20]"
   ]
  },
  {
   "cell_type": "code",
   "execution_count": 30,
   "metadata": {},
   "outputs": [
    {
     "name": "stdout",
     "output_type": "stream",
     "text": [
      "+-----+----------+----------+------------------+-------------------------+-----------------+---------------------------+------------+------------+------+---------------------------------+----------+----------------+---------------+----------+------------+---------------------------+------------+--------+----------+----------------------------------+\n",
      "|index|  postcode|      year|             total|with_migration_background|  of_dutch_origin|of_western_migration_origin|      afrika|     amerika|  asia|europe_excluding_dutch_background|   oceania|         belgium|        germany| indonesia|     morocco|former_dutch_antilles_aruba|      poland|suriname|    turkey|other_western_migration_background|\n",
      "+-----+----------+----------+------------------+-------------------------+-----------------+---------------------------+------------+------------+------+---------------------------------+----------+----------------+---------------+----------+------------+---------------------------+------------+--------+----------+----------------------------------+\n",
      "|    0|Ned1erland|\"n/201\"\"9\"|\"1\"\"7n/28n/21\"\"63\"|              \"40861\"\"38\"|\"1\"\"31\"\"960n/25.\"|            \"1\"\"774n/271\"\"\"|    69307n/2|\"7001\"\"5.5.\"|937304|                    \"1\"\"731\"\"779\"| n/238n/28|    \"1\"\"1\"\"9769\"|\"35.1\"\"5.5.n/2\"|    358773|  40n/249n/2|            \"1\"\"61\"\"n/265.\"|  \"1\"\"85497\"|  353909|    409877|                            758680|\n",
      "|    1|Nede2rland|  n/20n/20|    \"1\"\"74075.85.\"|             4n/2n/20705.|   \"1\"\"31\"\"86880\"|             \"1\"\"8n/28645.\"|\"71\"\"473n/2\"|\"71\"\"9601\"\"\"|969980|                   \"1\"\"791\"\"85.0\"|n/245.4n/2|\"1\"\"n/21\"\"01\"\"9\"|       349n/284|  3560n/29|      408864|              \"1\"\"66n/265.\"|\"1\"\"980n/24\"|35640n/2|\"41\"\"6864\"|                          804n/289|\n",
      "|    2|Nederland#|n/20n/21\"\"|  \"1\"\"7475.41\"\"5.\"|                  4305908|  \"1\"\"31\"\"695.07\"|                \"1\"\"858730\"|  \"731\"\"444\"|    733401\"\"|985977|                      \"1\"\"830696\"|   n/24390|\"1\"\"n/2n/21\"\"97\"|         345746|35n/2n/266|\"41\"\"41\"\"86\"|             \"1\"\"71\"\"41\"\"3\"|  n/209n/278|358n/266|4n/2n/2030|                        8n/29n/243|\n",
      "+-----+----------+----------+------------------+-------------------------+-----------------+---------------------------+------------+------------+------+---------------------------------+----------+----------------+---------------+----------+------------+---------------------------+------------+--------+----------+----------------------------------+\n",
      "only showing top 3 rows\n",
      "\n"
     ]
    }
   ],
   "source": [
    "df = df.select(\"index\", *column_list)\n",
    "df.show(3)"
   ]
  },
  {
   "cell_type": "code",
   "execution_count": 31,
   "metadata": {},
   "outputs": [
    {
     "name": "stdout",
     "output_type": "stream",
     "text": [
      "+-----+----------+----------+----------------+-------------------------+---------------+---------------------------+------------+------------+------+---------------------------------+----------+----------------+--------+----------+------------+---------------------------+------------+--------+----------+----------------------------------+\n",
      "|index|  postcode|      year|           total|with_migration_background|of_dutch_origin|of_western_migration_origin|      afrika|     amerika|  asia|europe_excluding_dutch_background|   oceania|         belgium| germany| indonesia|     morocco|former_dutch_antilles_aruba|      poland|suriname|    turkey|other_western_migration_background|\n",
      "+-----+----------+----------+----------------+-------------------------+---------------+---------------------------+------------+------------+------+---------------------------------+----------+----------------+--------+----------+------------+---------------------------+------------+--------+----------+----------------------------------+\n",
      "|    1|Nede2rland|  n/20n/20|  \"1\"\"74075.85.\"|             4n/2n/20705.| \"1\"\"31\"\"86880\"|             \"1\"\"8n/28645.\"|\"71\"\"473n/2\"|\"71\"\"9601\"\"\"|969980|                   \"1\"\"791\"\"85.0\"|n/245.4n/2|\"1\"\"n/21\"\"01\"\"9\"|349n/284|  3560n/29|      408864|              \"1\"\"66n/265.\"|\"1\"\"980n/24\"|35640n/2|\"41\"\"6864\"|                          804n/289|\n",
      "|    2|Nederland#|n/20n/21\"\"|\"1\"\"7475.41\"\"5.\"|                  4305908|\"1\"\"31\"\"695.07\"|                \"1\"\"858730\"|  \"731\"\"444\"|    733401\"\"|985977|                      \"1\"\"830696\"|   n/24390|\"1\"\"n/2n/21\"\"97\"|  345746|35n/2n/266|\"41\"\"41\"\"86\"|             \"1\"\"71\"\"41\"\"3\"|  n/209n/278|358n/266|4n/2n/2030|                        8n/29n/243|\n",
      "+-----+----------+----------+----------------+-------------------------+---------------+---------------------------+------------+------------+------+---------------------------------+----------+----------------+--------+----------+------------+---------------------------+------------+--------+----------+----------------------------------+\n",
      "\n"
     ]
    }
   ],
   "source": [
    "df.filter((df.index==1) | (df.index==2)).show()"
   ]
  },
  {
   "cell_type": "code",
   "execution_count": 32,
   "metadata": {},
   "outputs": [
    {
     "name": "stdout",
     "output_type": "stream",
     "text": [
      "+-----+----------+----------+------------------+-------------------------+-----------------+---------------------------+------------+------------+------+---------------------------------+----------+----------------+---------------+----------+------------+---------------------------+------------+--------+----------+----------------------------------+\n",
      "|index|  postcode|      year|             total|with_migration_background|  of_dutch_origin|of_western_migration_origin|      afrika|     amerika|  asia|europe_excluding_dutch_background|   oceania|         belgium|        germany| indonesia|     morocco|former_dutch_antilles_aruba|      poland|suriname|    turkey|other_western_migration_background|\n",
      "+-----+----------+----------+------------------+-------------------------+-----------------+---------------------------+------------+------------+------+---------------------------------+----------+----------------+---------------+----------+------------+---------------------------+------------+--------+----------+----------------------------------+\n",
      "|    0|Ned1erland|\"n/201\"\"9\"|\"1\"\"7n/28n/21\"\"63\"|              \"40861\"\"38\"|\"1\"\"31\"\"960n/25.\"|            \"1\"\"774n/271\"\"\"|    69307n/2|\"7001\"\"5.5.\"|937304|                    \"1\"\"731\"\"779\"| n/238n/28|    \"1\"\"1\"\"9769\"|\"35.1\"\"5.5.n/2\"|    358773|  40n/249n/2|            \"1\"\"61\"\"n/265.\"|  \"1\"\"85497\"|  353909|    409877|                            758680|\n",
      "|    1|Nede2rland|  n/20n/20|    \"1\"\"74075.85.\"|             4n/2n/20705.|   \"1\"\"31\"\"86880\"|             \"1\"\"8n/28645.\"|\"71\"\"473n/2\"|\"71\"\"9601\"\"\"|969980|                   \"1\"\"791\"\"85.0\"|n/245.4n/2|\"1\"\"n/21\"\"01\"\"9\"|       349n/284|  3560n/29|      408864|              \"1\"\"66n/265.\"|\"1\"\"980n/24\"|35640n/2|\"41\"\"6864\"|                          804n/289|\n",
      "|    2|Nederland#|n/20n/21\"\"|  \"1\"\"7475.41\"\"5.\"|                  4305908|  \"1\"\"31\"\"695.07\"|                \"1\"\"858730\"|  \"731\"\"444\"|    733401\"\"|985977|                      \"1\"\"830696\"|   n/24390|\"1\"\"n/2n/21\"\"97\"|         345746|35n/2n/266|\"41\"\"41\"\"86\"|             \"1\"\"71\"\"41\"\"3\"|  n/209n/278|358n/266|4n/2n/2030|                        8n/29n/243|\n",
      "+-----+----------+----------+------------------+-------------------------+-----------------+---------------------------+------------+------------+------+---------------------------------+----------+----------------+---------------+----------+------------+---------------------------+------------+--------+----------+----------------------------------+\n",
      "only showing top 3 rows\n",
      "\n"
     ]
    }
   ],
   "source": [
    "df.show(3)"
   ]
  },
  {
   "cell_type": "code",
   "execution_count": 33,
   "metadata": {},
   "outputs": [
    {
     "name": "stdout",
     "output_type": "stream",
     "text": [
      "+-----+---------+----------+--------------------+-------------------------+------------------+---------------------------+------------+------------+-------------+---------------------------------+----------+----------------+---------------+----------+--------------+---------------------------+------------+----------+----------+----------------------------------+\n",
      "|index| postcode|      year|               total|with_migration_background|   of_dutch_origin|of_western_migration_origin|      afrika|     amerika|         asia|europe_excluding_dutch_background|   oceania|         belgium|        germany| indonesia|       morocco|former_dutch_antilles_aruba|      poland|  suriname|    turkey|other_western_migration_background|\n",
      "+-----+---------+----------+--------------------+-------------------------+------------------+---------------------------+------------+------------+-------------+---------------------------------+----------+----------------+---------------+----------+--------------+---------------------------+------------+----------+----------+----------------------------------+\n",
      "|    0|Nederland|\"n/201\"\"9\"|  \"1\"\"7n/28n/21\"\"63\"|              \"40861\"\"38\"| \"1\"\"31\"\"960n/25.\"|            \"1\"\"774n/271\"\"\"|    69307n/2|\"7001\"\"5.5.\"|       937304|                    \"1\"\"731\"\"779\"| n/238n/28|    \"1\"\"1\"\"9769\"|\"35.1\"\"5.5.n/2\"|    358773|    40n/249n/2|            \"1\"\"61\"\"n/265.\"|  \"1\"\"85497\"|    353909|    409877|                            758680|\n",
      "|    1|Nederland|  n/20n/20|      \"1\"\"74075.85.\"|             4n/2n/20705.|    \"1\"\"31\"\"86880\"|             \"1\"\"8n/28645.\"|\"71\"\"473n/2\"|\"71\"\"9601\"\"\"|       969980|                   \"1\"\"791\"\"85.0\"|n/245.4n/2|\"1\"\"n/21\"\"01\"\"9\"|       349n/284|  3560n/29|        408864|              \"1\"\"66n/265.\"|\"1\"\"980n/24\"|  35640n/2|\"41\"\"6864\"|                          804n/289|\n",
      "|    2|Nederland|n/20n/21\"\"|    \"1\"\"7475.41\"\"5.\"|                  4305908|   \"1\"\"31\"\"695.07\"|                \"1\"\"858730\"|  \"731\"\"444\"|    733401\"\"|       985977|                      \"1\"\"830696\"|   n/24390|\"1\"\"n/2n/21\"\"97\"|         345746|35n/2n/266|  \"41\"\"41\"\"86\"|             \"1\"\"71\"\"41\"\"3\"|  n/209n/278|  358n/266|4n/2n/2030|                        8n/29n/243|\n",
      "|    3|Nederland|n/20n/2n/2|      \"1\"\"759067n/2\"|                  4438900|\"1\"\"31\"\"51\"\"77n/2\"|                \"1\"\"909408\"|      749780|  \"751\"\"689\"|\"1\"\"0n/23304\"|                      \"1\"\"889704\"| n/244n/23|  \"1\"\"n/231\"\"36\"|    34n/29n/25.|  349301\"\"|\"41\"\"9n/27n/2\"|             \"1\"\"7691\"\"n/2\"|  n/2n/20980|\"35981\"\"4\"|  4n/29978|                            873066|\n",
      "|    4|Nederland|  n/20n/23|\"1\"\"781\"\"1\"\"n/291\"\"\"|                469486n/2|\"1\"\"31\"\"1\"\"64n/29\"|                  n/2054637|     7735.46|  \"771\"\"666\"|  \"1\"\"077880\"|                      n/204676n/2|   n/25008|    \"1\"\"n/23674\"|         339049|   346345.|    4n/2486n/2|           \"1\"\"8n/21\"\"1\"\"4\"|  n/23n/2406|\"361\"\"330\"|   4435.69|                   \"1\"\"01\"\"31\"\"63\"|\n",
      "+-----+---------+----------+--------------------+-------------------------+------------------+---------------------------+------------+------------+-------------+---------------------------------+----------+----------------+---------------+----------+--------------+---------------------------+------------+----------+----------+----------------------------------+\n",
      "\n"
     ]
    }
   ],
   "source": [
    "df_postcode = df.filter(col(\"index\") <= 4).withColumn(\"postcode\", regexp_replace(col(\"postcode\"), '[^a-zA-Z.]+', \"\"))\n",
    "df_postcode.show()"
   ]
  },
  {
   "cell_type": "code",
   "execution_count": 34,
   "metadata": {},
   "outputs": [
    {
     "data": {
      "text/plain": [
       "5"
      ]
     },
     "execution_count": 34,
     "metadata": {},
     "output_type": "execute_result"
    }
   ],
   "source": [
    "df_postcode.count()"
   ]
  },
  {
   "cell_type": "code",
   "execution_count": 35,
   "metadata": {},
   "outputs": [
    {
     "name": "stdout",
     "output_type": "stream",
     "text": [
      "+-----+--------+----------+-----+-------------------------+---------------+---------------------------+------+-------+----+---------------------------------+-------+---------+-------+---------+-------+---------------------------+------+--------+---------+----------------------------------+\n",
      "|index|postcode|      year|total|with_migration_background|of_dutch_origin|of_western_migration_origin|afrika|amerika|asia|europe_excluding_dutch_background|oceania|  belgium|germany|indonesia|morocco|former_dutch_antilles_aruba|poland|suriname|   turkey|other_western_migration_background|\n",
      "+-----+--------+----------+-----+-------------------------+---------------+---------------------------+------+-------+----+---------------------------------+-------+---------+-------+---------+-------+---------------------------+------+--------+---------+----------------------------------+\n",
      "|    5|    1011|\"n/201\"\"9\"| 9670|              \"41\"\"1\"\"5.\"|       5.5.5.5.|                    n/265.0|n/235.|   845.| 970|                        \"1\"\"985.\"|     80|\"1\"\"1\"\"0\"|   335.|     365.|    95.|                         70|    70| n/25.5.| \"1\"\"05.\"|                          \"1\"\"770\"|\n",
      "|    6|    1011|  n/20n/20|9705.|                   4n/260|         5.445.|                    n/2735.| n/260|    870|995.|                           n/2060|    75.|\"1\"\"1\"\"0\"|    330|     365.|    95.|                        65.|    60|  n/25.0|\"1\"\"1\"\"0\"|                          \"1\"\"870\"|\n",
      "|    7|    1011|n/20n/21\"\"| 9630|                  4n/275.|        5.35.5.|                    n/275.0|n/275.|    890| 960|                           n/2080|     70|  \"1\"\"00\"|   35.0|      360|    95.|                         70|    70|   n/270|  \"1\"\"00\"|                          \"1\"\"870\"|\n",
      "+-----+--------+----------+-----+-------------------------+---------------+---------------------------+------+-------+----+---------------------------------+-------+---------+-------+---------+-------+---------------------------+------+--------+---------+----------------------------------+\n",
      "only showing top 3 rows\n",
      "\n"
     ]
    }
   ],
   "source": [
    "df_postcode_last = df.filter(col(\"index\") > 4).withColumn(\"postcode\", regexp_replace(col(\"postcode\"), '[^0-9.]+', \"\"))\n",
    "df_postcode_last.show(3)"
   ]
  },
  {
   "cell_type": "code",
   "execution_count": 36,
   "metadata": {},
   "outputs": [
    {
     "data": {
      "text/plain": [
       "12175"
      ]
     },
     "execution_count": 36,
     "metadata": {},
     "output_type": "execute_result"
    }
   ],
   "source": [
    "df_postcode_last.count()"
   ]
  },
  {
   "cell_type": "code",
   "execution_count": 37,
   "metadata": {},
   "outputs": [],
   "source": [
    "df = df_postcode.union(df_postcode_last)"
   ]
  },
  {
   "cell_type": "code",
   "execution_count": 38,
   "metadata": {},
   "outputs": [
    {
     "name": "stdout",
     "output_type": "stream",
     "text": [
      "+-----+---------+----------+--------------------+-------------------------+------------------+---------------------------+------------+------------+-------------+---------------------------------+----------+----------------+---------------+----------+--------------+---------------------------+------------+----------+----------+----------------------------------+\n",
      "|index| postcode|      year|               total|with_migration_background|   of_dutch_origin|of_western_migration_origin|      afrika|     amerika|         asia|europe_excluding_dutch_background|   oceania|         belgium|        germany| indonesia|       morocco|former_dutch_antilles_aruba|      poland|  suriname|    turkey|other_western_migration_background|\n",
      "+-----+---------+----------+--------------------+-------------------------+------------------+---------------------------+------------+------------+-------------+---------------------------------+----------+----------------+---------------+----------+--------------+---------------------------+------------+----------+----------+----------------------------------+\n",
      "|    0|Nederland|\"n/201\"\"9\"|  \"1\"\"7n/28n/21\"\"63\"|              \"40861\"\"38\"| \"1\"\"31\"\"960n/25.\"|            \"1\"\"774n/271\"\"\"|    69307n/2|\"7001\"\"5.5.\"|       937304|                    \"1\"\"731\"\"779\"| n/238n/28|    \"1\"\"1\"\"9769\"|\"35.1\"\"5.5.n/2\"|    358773|    40n/249n/2|            \"1\"\"61\"\"n/265.\"|  \"1\"\"85497\"|    353909|    409877|                            758680|\n",
      "|    1|Nederland|  n/20n/20|      \"1\"\"74075.85.\"|             4n/2n/20705.|    \"1\"\"31\"\"86880\"|             \"1\"\"8n/28645.\"|\"71\"\"473n/2\"|\"71\"\"9601\"\"\"|       969980|                   \"1\"\"791\"\"85.0\"|n/245.4n/2|\"1\"\"n/21\"\"01\"\"9\"|       349n/284|  3560n/29|        408864|              \"1\"\"66n/265.\"|\"1\"\"980n/24\"|  35640n/2|\"41\"\"6864\"|                          804n/289|\n",
      "|    2|Nederland|n/20n/21\"\"|    \"1\"\"7475.41\"\"5.\"|                  4305908|   \"1\"\"31\"\"695.07\"|                \"1\"\"858730\"|  \"731\"\"444\"|    733401\"\"|       985977|                      \"1\"\"830696\"|   n/24390|\"1\"\"n/2n/21\"\"97\"|         345746|35n/2n/266|  \"41\"\"41\"\"86\"|             \"1\"\"71\"\"41\"\"3\"|  n/209n/278|  358n/266|4n/2n/2030|                        8n/29n/243|\n",
      "|    3|Nederland|n/20n/2n/2|      \"1\"\"759067n/2\"|                  4438900|\"1\"\"31\"\"51\"\"77n/2\"|                \"1\"\"909408\"|      749780|  \"751\"\"689\"|\"1\"\"0n/23304\"|                      \"1\"\"889704\"| n/244n/23|  \"1\"\"n/231\"\"36\"|    34n/29n/25.|  349301\"\"|\"41\"\"9n/27n/2\"|             \"1\"\"7691\"\"n/2\"|  n/2n/20980|\"35981\"\"4\"|  4n/29978|                            873066|\n",
      "|    4|Nederland|  n/20n/23|\"1\"\"781\"\"1\"\"n/291\"\"\"|                469486n/2|\"1\"\"31\"\"1\"\"64n/29\"|                  n/2054637|     7735.46|  \"771\"\"666\"|  \"1\"\"077880\"|                      n/204676n/2|   n/25008|    \"1\"\"n/23674\"|         339049|   346345.|    4n/2486n/2|           \"1\"\"8n/21\"\"1\"\"4\"|  n/23n/2406|\"361\"\"330\"|   4435.69|                   \"1\"\"01\"\"31\"\"63\"|\n",
      "|    5|     1011|\"n/201\"\"9\"|                9670|              \"41\"\"1\"\"5.\"|          5.5.5.5.|                    n/265.0|      n/235.|        845.|          970|                        \"1\"\"985.\"|        80|       \"1\"\"1\"\"0\"|           335.|      365.|           95.|                         70|          70|   n/25.5.|  \"1\"\"05.\"|                          \"1\"\"770\"|\n",
      "|    6|     1011|  n/20n/20|               9705.|                   4n/260|            5.445.|                    n/2735.|       n/260|         870|         995.|                           n/2060|       75.|       \"1\"\"1\"\"0\"|            330|      365.|           95.|                        65.|          60|    n/25.0| \"1\"\"1\"\"0\"|                          \"1\"\"870\"|\n",
      "|    7|     1011|n/20n/21\"\"|                9630|                  4n/275.|           5.35.5.|                    n/275.0|      n/275.|         890|          960|                           n/2080|        70|         \"1\"\"00\"|           35.0|       360|           95.|                         70|          70|     n/270|   \"1\"\"00\"|                          \"1\"\"870\"|\n",
      "|    8|     1011|n/20n/2n/2|                9760|                \"45.1\"\"0\"|          5.n/25.0|                     n/2840|      n/295.|     \"91\"\"0\"|     \"1\"\"060\"|                       \"n/21\"\"80\"|       65.|        \"1\"\"05.\"|          35.5.|     35.5.|           95.|                        65.|         65.|     n/260| \"1\"\"n/20\"|                          \"1\"\"960\"|\n",
      "|    9|     1011|  n/20n/23|           \"991\"\"5.\"|                     4730|        \"5.1\"\"85.\"|                     n/2980|       3n/20|        935.|     \"1\"\"090\"|                          n/2305.|        80|        \"1\"\"05.\"|           345.|      365.|     \"1\"\"1\"\"0\"|                        65.|          60|   n/25.5.|\"1\"\"n/25.\"|                       \"n/21\"\"05.\"|\n",
      "+-----+---------+----------+--------------------+-------------------------+------------------+---------------------------+------------+------------+-------------+---------------------------------+----------+----------------+---------------+----------+--------------+---------------------------+------------+----------+----------+----------------------------------+\n",
      "only showing top 10 rows\n",
      "\n"
     ]
    }
   ],
   "source": [
    "df.show(10)"
   ]
  },
  {
   "cell_type": "code",
   "execution_count": 39,
   "metadata": {},
   "outputs": [
    {
     "name": "stdout",
     "output_type": "stream",
     "text": [
      "+---------+----+--------+-------------------------+---------------+---------------------------+------+-------+------+---------------------------------+-------+-------+-------+---------+-------+---------------------------+------+--------+------+----------------------------------+\n",
      "| postcode|year|   total|with_migration_background|of_dutch_origin|of_western_migration_origin|afrika|amerika|  asia|europe_excluding_dutch_background|oceania|belgium|germany|indonesia|morocco|former_dutch_antilles_aruba|poland|suriname|turkey|other_western_migration_background|\n",
      "+---------+----+--------+-------------------------+---------------+---------------------------+------+-------+------+---------------------------------+-------+-------+-------+---------+-------+---------------------------+------+--------+------+----------------------------------+\n",
      "|Nederland|2019|17282163|                  4086138|       13196025|                    1774271|693072| 700155|937304|                          1731779|  23828| 119769| 351552|   358773| 402492|                     161265|185497|  353909|409877|                            758680|\n",
      "|Nederland|2020|17407585|                  4220705|       13186880|                    1828645|714732| 719601|969980|                          1791850|  24542| 121019| 349284|   356029| 408864|                     166265|198024|  356402|416864|                            804289|\n",
      "|Nederland|2021|17475415|                  4305908|       13169507|                    1858730|731444| 733401|985977|                          1830696|  24390| 122197| 345746|   352266| 414186|                     171413|209278|  358266|422030|                            829243|\n",
      "+---------+----+--------+-------------------------+---------------+---------------------------+------+-------+------+---------------------------------+-------+-------+-------+---------+-------+---------------------------+------+--------+------+----------------------------------+\n",
      "only showing top 3 rows\n",
      "\n"
     ]
    }
   ],
   "source": [
    "for col_name in df.columns:\n",
    "    if col_name == \"index\":\n",
    "        df = df.drop(col_name)\n",
    "    elif col_name != \"postcode\":\n",
    "        df = df.withColumn(col_name, regexp_replace(col(col_name), '[^0-9]+', ''))\n",
    "\n",
    "df.show(3)"
   ]
  },
  {
   "cell_type": "markdown",
   "metadata": {},
   "source": [
    "## 6. Data Type Conversions"
   ]
  },
  {
   "cell_type": "code",
   "execution_count": 40,
   "metadata": {},
   "outputs": [],
   "source": [
    "df = df.withColumn(\"year\", col(\"year\").cast(\"int\"))"
   ]
  },
  {
   "cell_type": "code",
   "execution_count": 41,
   "metadata": {},
   "outputs": [
    {
     "name": "stdout",
     "output_type": "stream",
     "text": [
      "root\n",
      " |-- postcode: string (nullable = false)\n",
      " |-- year: integer (nullable = true)\n",
      " |-- total: integer (nullable = true)\n",
      " |-- with_migration_background: integer (nullable = true)\n",
      " |-- of_dutch_origin: integer (nullable = true)\n",
      " |-- of_western_migration_origin: integer (nullable = true)\n",
      " |-- afrika: integer (nullable = true)\n",
      " |-- amerika: integer (nullable = true)\n",
      " |-- asia: integer (nullable = true)\n",
      " |-- europe_excluding_dutch_background: integer (nullable = true)\n",
      " |-- oceania: integer (nullable = true)\n",
      " |-- belgium: integer (nullable = true)\n",
      " |-- germany: integer (nullable = true)\n",
      " |-- indonesia: integer (nullable = true)\n",
      " |-- morocco: integer (nullable = true)\n",
      " |-- former_dutch_antilles_aruba: integer (nullable = true)\n",
      " |-- poland: integer (nullable = true)\n",
      " |-- suriname: integer (nullable = true)\n",
      " |-- turkey: integer (nullable = true)\n",
      " |-- other_western_migration_background: integer (nullable = true)\n",
      "\n"
     ]
    }
   ],
   "source": [
    "for col_name in df.columns:\n",
    "    if col_name != \"year\" and col_name != \"postcode\":\n",
    "        df = df.withColumn(col_name, col(col_name).cast(\"int\"))\n",
    "\n",
    "df.printSchema()"
   ]
  },
  {
   "cell_type": "code",
   "execution_count": 42,
   "metadata": {},
   "outputs": [
    {
     "name": "stdout",
     "output_type": "stream",
     "text": [
      "+-------+------------------+------------------+------------------+-------------------------+------------------+---------------------------+-----------------+------------------+-----------------+---------------------------------+------------------+------------------+------------------+------------------+------------------+---------------------------+------------------+------------------+------------------+----------------------------------+\n",
      "|summary|          postcode|              year|             total|with_migration_background|   of_dutch_origin|of_western_migration_origin|           afrika|           amerika|             asia|europe_excluding_dutch_background|           oceania|           belgium|           germany|         indonesia|           morocco|former_dutch_antilles_aruba|            poland|          suriname|            turkey|other_western_migration_background|\n",
      "+-------+------------------+------------------+------------------+-------------------------+------------------+---------------------------+-----------------+------------------+-----------------+---------------------------------+------------------+------------------+------------------+------------------+------------------+---------------------------+------------------+------------------+------------------+----------------------------------+\n",
      "|  count|             12180|             12180|             12180|                    12180|             12180|                      12180|            12180|             12180|            12180|                            12180|             12180|             12180|             12180|             12180|             12180|                      12180|             12180|             12180|             12180|                             12180|\n",
      "|   mean| 3228.682898289827|2021.0004926108375| 85102.03267651888|        70984.33349753695| 110709.2486863711|          72537.67060755337|36679.35484400657|35277.513382594414| 62984.8578817734|                85679.25681444992|18.388834154351397| 700.7598522167488| 5086.495155993432| 7595.730049261084|17156.154187192118|         1999.4259441707718|4980.0920361247945|14989.485467980296|18939.500082101807|                45655.109113300496|\n",
      "| stddev|2058.2464674823523|1.4141554158647633|1055647.3583085027|        921250.4673595732|1200848.7974133827|          808957.1258771076| 568645.962602209|514720.13578744524|598652.9960473535|                944864.4431720614| 495.1553004173974|25331.378859025088|123526.93364786726|166991.83419065372| 397610.3793322877|          73016.83950518344|129724.97478168299|304246.93740362703| 424430.2694824714|                 474123.4494796938|\n",
      "|    min|              1011|              2019|                 0|                        0|                 0|                          0|                0|                 0|                0|                                0|                 0|                 0|                 0|                 0|                 0|                          0|                 0|                 0|                 0|                                 0|\n",
      "|    25%|            1631.0|              2020|              1520|                      165|              1285|                        105|               10|                15|               30|                               85|                 0|                 5|                20|                15|                 0|                          5|                10|                 5|                 0|                                35|\n",
      "|    50%|            3214.0|              2021|              4615|                      700|              3385|                        420|               70|                75|              175|                              355|                 5|                25|                70|                70|                20|                         15|                35|                25|                20|                               150|\n",
      "|    75%|            4903.0|              2022|              8705|                     2070|              6070|                        990|              280|               270|              485|                              940|                10|                55|               145|               180|               135|                         65|                90|                95|               120|                               380|\n",
      "|    max|         Nederland|              2023|          25102024|                 25102024|          25102024|                   25052000|         25102024|          25052000|         25052000|                         25102024|             25008|           1052020|           5102024|           5102024|          25052000|                    5102024|           5102024|          15102024|          25102024|                          15102024|\n",
      "+-------+------------------+------------------+------------------+-------------------------+------------------+---------------------------+-----------------+------------------+-----------------+---------------------------------+------------------+------------------+------------------+------------------+------------------+---------------------------+------------------+------------------+------------------+----------------------------------+\n",
      "\n"
     ]
    }
   ],
   "source": [
    "df.summary().show()"
   ]
  },
  {
   "cell_type": "code",
   "execution_count": 43,
   "metadata": {},
   "outputs": [
    {
     "name": "stdout",
     "output_type": "stream",
     "text": [
      "+---------+----+--------+-------------------------+---------------+---------------------------+------+-------+-------+---------------------------------+-------+-------+-------+---------+-------+---------------------------+------+--------+------+----------------------------------+\n",
      "| postcode|year|   total|with_migration_background|of_dutch_origin|of_western_migration_origin|afrika|amerika|   asia|europe_excluding_dutch_background|oceania|belgium|germany|indonesia|morocco|former_dutch_antilles_aruba|poland|suriname|turkey|other_western_migration_background|\n",
      "+---------+----+--------+-------------------------+---------------+---------------------------+------+-------+-------+---------------------------------+-------+-------+-------+---------+-------+---------------------------+------+--------+------+----------------------------------+\n",
      "|Nederland|2019|17282163|                  4086138|       13196025|                    1774271|693072| 700155| 937304|                          1731779|  23828| 119769| 351552|   358773| 402492|                     161265|185497|  353909|409877|                            758680|\n",
      "|Nederland|2020|17407585|                  4220705|       13186880|                    1828645|714732| 719601| 969980|                          1791850|  24542| 121019| 349284|   356029| 408864|                     166265|198024|  356402|416864|                            804289|\n",
      "|Nederland|2021|17475415|                  4305908|       13169507|                    1858730|731444| 733401| 985977|                          1830696|  24390| 122197| 345746|   352266| 414186|                     171413|209278|  358266|422030|                            829243|\n",
      "|Nederland|2022|17590672|                  4438900|       13151772|                    1909408|749780| 751689|1023304|                          1889704|  24423| 123136| 342925|   349301| 419272|                     176912|220980|  359814|429978|                            873066|\n",
      "|Nederland|2023|17811291|                  4694862|       13116429|                    2054637|773546| 771666|1077880|                          2046762|  25008| 123674| 339049|   346345| 424862|                     182114|232406|  361330|443569|                           1013163|\n",
      "|     1011|2019|    9670|                     4115|           5555|                       2650|   235|    845|    970|                             1985|     80|    110|    335|      365|     95|                         70|    70|     255|   105|                              1770|\n",
      "|     1011|2020|    9705|                     4260|           5445|                       2735|   260|    870|    995|                             2060|     75|    110|    330|      365|     95|                         65|    60|     250|   110|                              1870|\n",
      "|     1011|2021|    9630|                     4275|           5355|                       2750|   275|    890|    960|                             2080|     70|    100|    350|      360|     95|                         70|    70|     270|   100|                              1870|\n",
      "|     1011|2022|    9760|                     4510|           5250|                       2840|   295|    910|   1060|                             2180|     65|    105|    355|      355|     95|                         65|    65|     260|   120|                              1960|\n",
      "|     1011|2023|    9915|                     4730|           5185|                       2980|   320|    935|   1090|                             2305|     80|    105|    345|      365|    110|                         65|    60|     255|   125|                              2105|\n",
      "|     1012|2019|    8420|                     4360|           4060|                       2965|   270|    810|    800|                             2395|     85|     75|    245|      255|     65|                         70|   105|     155|    90|                              2285|\n",
      "|     1012|2020|    8600|                     4600|           4000|                       3085|   275|    875|    820|                         25052000|     80|     80|    275|      235|     60|                         70|    90|     170|   115|                              2405|\n",
      "|     1012|2021|    8545|                     4560|           3985|                       3010|   300|    885|    810|                             2490|     75|     80|    280|      225|     70|                         75|    90|     175|    95|                              2335|\n",
      "|     1012|2022|    8800|                     4850|           3950|                       3180|   325|    925|    865|                             2660|     80|     95|    285|      210|     60|                         85|   100|     175|   115|                              2490|\n",
      "|     1012|2023|    8900|                     5120|           3780|                       3335|   325|    995|    920|                             2815|     70|     90|    285|      190|     60|                        100|   115|     175|   120|                              2655|\n",
      "|     1013|2019|   21335|                     9860|          11475|                       4580|  1865|   2440|   1800|                             3635|    120|    180|    595|      720|   1120|                        230|   105|    1255|   355|                              2980|\n",
      "|     1013|2020|   21395|                    10055|          11340|                       4725|  1860|   2490|   1820|                             3750|    135|    185|    595|      705|   1100|                        230|   105|    1225|   360|                              3135|\n",
      "|     1013|2021|   21255|                    10190|          11065|                       4830|  1915|   2490|   1825|                             3820|    140|    180|1051980|      690|   1100|                        225|   115|    1190|   365|                              3265|\n",
      "|     1013|2022|   21940|                    10950|          10990|                       5430|  1935|   2525|   1935|                             4425|    130|    200|    625|      680|   1110|                        230|   155|    1125|   400|                              3770|\n",
      "|     1013|2023|   22350|                    11640|          10710|                       5845|  1935|   2580|   2190|                             4785|    150|    215|    615|      740|   1080|                        225|   190|    1110|   425|                              4085|\n",
      "+---------+----+--------+-------------------------+---------------+---------------------------+------+-------+-------+---------------------------------+-------+-------+-------+---------+-------+---------------------------+------+--------+------+----------------------------------+\n",
      "only showing top 20 rows\n",
      "\n"
     ]
    }
   ],
   "source": [
    "df.show()"
   ]
  },
  {
   "cell_type": "markdown",
   "metadata": {},
   "source": [
    "## 7. Data Merging"
   ]
  },
  {
   "cell_type": "code",
   "execution_count": 44,
   "metadata": {},
   "outputs": [
    {
     "name": "stdout",
     "output_type": "stream",
     "text": [
      "+------+----------+---------+--------+------------+\n",
      "|   PC6|Huisnummer|Buurt2023|Wijk2023|Gemeente2023|\n",
      "+------+----------+---------+--------+------------+\n",
      "|1011AB|        99| 0363AF01|  0363AF|        0363|\n",
      "|1011AB|       105| 0363AF01|  0363AF|        0363|\n",
      "|1011AB|       106| 0363AF01|  0363AF|        0363|\n",
      "+------+----------+---------+--------+------------+\n",
      "only showing top 3 rows\n",
      "\n"
     ]
    }
   ],
   "source": [
    "df_nl = spark.read.csv(\"Nederland.csv\", header=True)\n",
    "df_nl.show(3)"
   ]
  },
  {
   "cell_type": "code",
   "execution_count": 45,
   "metadata": {},
   "outputs": [
    {
     "name": "stdout",
     "output_type": "stream",
     "text": [
      "+------+---------+--------+------------+\n",
      "|   PC6|Buurt2023|Wijk2023|Gemeente2023|\n",
      "+------+---------+--------+------------+\n",
      "|1011AB| 0363AF01|  0363AF|        0363|\n",
      "|1011AB| 0363AF01|  0363AF|        0363|\n",
      "|1011AB| 0363AF01|  0363AF|        0363|\n",
      "+------+---------+--------+------------+\n",
      "only showing top 3 rows\n",
      "\n"
     ]
    }
   ],
   "source": [
    "df_nl = df_nl.drop(col(\"Huisnummer\"))\n",
    "df_nl.show(3)"
   ]
  },
  {
   "cell_type": "code",
   "execution_count": 46,
   "metadata": {},
   "outputs": [
    {
     "name": "stdout",
     "output_type": "stream",
     "text": [
      "+----+---------+--------+------------+\n",
      "| PC6|Buurt2023|Wijk2023|Gemeente2023|\n",
      "+----+---------+--------+------------+\n",
      "|1011| 0363AF01|  0363AF|        0363|\n",
      "|1011| 0363AF01|  0363AF|        0363|\n",
      "|1011| 0363AF01|  0363AF|        0363|\n",
      "+----+---------+--------+------------+\n",
      "only showing top 3 rows\n",
      "\n"
     ]
    }
   ],
   "source": [
    "df_nl = df_nl.withColumn(\"PC6\", regexp_extract(df_nl[\"PC6\"], r'^(.{4})', 1))\n",
    "df_nl.show(3)"
   ]
  },
  {
   "cell_type": "code",
   "execution_count": 47,
   "metadata": {},
   "outputs": [
    {
     "name": "stdout",
     "output_type": "stream",
     "text": [
      "+----+---------+--------+------------+\n",
      "| PC6|Buurt2023|Wijk2023|Gemeente2023|\n",
      "+----+---------+--------+------------+\n",
      "|1011| 0363AF01|  0363AF|        0363|\n",
      "|1012| 0363AD01|  0363AD|        0363|\n",
      "|1013| 0363AA03|  0363AA|        0363|\n",
      "|1014| 0363EB02|  0363EB|        0363|\n",
      "|1015| 0363AC01|  0363AC|        0363|\n",
      "|1016| 0363AC02|  0363AC|        0363|\n",
      "|1017| 0363AG03|  0363AG|        0363|\n",
      "|1018| 0363AK07|  0363AK|        0363|\n",
      "|1019| 0363MA11|  0363MA|        0363|\n",
      "|1021| 0363NL03|  0363NL|        0363|\n",
      "|1022| 0363NP02|  0363NP|        0363|\n",
      "|1023| 0363NF03|  0363NF|        0363|\n",
      "|1024| 0363NJ04|  0363NJ|        0363|\n",
      "|1025| 0363NH01|  0363NH|        0363|\n",
      "|1026| 0363NQ06|  0363NQ|        0363|\n",
      "|1027| 0363NQ03|  0363NQ|        0363|\n",
      "|1028| 0363NQ03|  0363NQ|        0363|\n",
      "|1031| 0363NK03|  0363NK|        0363|\n",
      "|1032| 0363NK02|  0363NK|        0363|\n",
      "|1033| 0363NA05|  0363NA|        0363|\n",
      "+----+---------+--------+------------+\n",
      "only showing top 20 rows\n",
      "\n"
     ]
    }
   ],
   "source": [
    "df_nl = df_nl.dropDuplicates(['PC6'])\n",
    "df_nl.show()"
   ]
  },
  {
   "cell_type": "code",
   "execution_count": 48,
   "metadata": {},
   "outputs": [
    {
     "name": "stdout",
     "output_type": "stream",
     "text": [
      "root\n",
      " |-- PC6: string (nullable = true)\n",
      " |-- Buurt2023: string (nullable = true)\n",
      " |-- Wijk2023: string (nullable = true)\n",
      " |-- Gemeente2023: string (nullable = true)\n",
      "\n"
     ]
    }
   ],
   "source": [
    "df_nl.printSchema()"
   ]
  },
  {
   "cell_type": "code",
   "execution_count": 49,
   "metadata": {},
   "outputs": [],
   "source": [
    "df = df.join(df_nl, df.postcode == df_nl.PC6, \"inner\").drop(\"PC6\")"
   ]
  },
  {
   "cell_type": "code",
   "execution_count": 50,
   "metadata": {},
   "outputs": [
    {
     "name": "stdout",
     "output_type": "stream",
     "text": [
      "+--------+----+-----+-------------------------+---------------+---------------------------+------+-------+----+---------------------------------+-------+-------+-------+---------+-------+---------------------------+------+--------+------+----------------------------------+---------+--------+------------+\n",
      "|postcode|year|total|with_migration_background|of_dutch_origin|of_western_migration_origin|afrika|amerika|asia|europe_excluding_dutch_background|oceania|belgium|germany|indonesia|morocco|former_dutch_antilles_aruba|poland|suriname|turkey|other_western_migration_background|Buurt2023|Wijk2023|Gemeente2023|\n",
      "+--------+----+-----+-------------------------+---------------+---------------------------+------+-------+----+---------------------------------+-------+-------+-------+---------+-------+---------------------------+------+--------+------+----------------------------------+---------+--------+------------+\n",
      "|    1011|2023| 9915|                     4730|           5185|                       2980|   320|    935|1090|                             2305|     80|    105|    345|      365|    110|                         65|    60|     255|   125|                              2105| 0363AF01|  0363AF|        0363|\n",
      "|    1011|2022| 9760|                     4510|           5250|                       2840|   295|    910|1060|                             2180|     65|    105|    355|      355|     95|                         65|    65|     260|   120|                              1960| 0363AF01|  0363AF|        0363|\n",
      "|    1011|2021| 9630|                     4275|           5355|                       2750|   275|    890| 960|                             2080|     70|    100|    350|      360|     95|                         70|    70|     270|   100|                              1870| 0363AF01|  0363AF|        0363|\n",
      "+--------+----+-----+-------------------------+---------------+---------------------------+------+-------+----+---------------------------------+-------+-------+-------+---------+-------+---------------------------+------+--------+------+----------------------------------+---------+--------+------------+\n",
      "only showing top 3 rows\n",
      "\n"
     ]
    }
   ],
   "source": [
    "df.show(3)"
   ]
  }
 ],
 "metadata": {
  "kernelspec": {
   "display_name": "Python 3",
   "language": "python",
   "name": "python3"
  },
  "language_info": {
   "codemirror_mode": {
    "name": "ipython",
    "version": 3
   },
   "file_extension": ".py",
   "mimetype": "text/x-python",
   "name": "python",
   "nbconvert_exporter": "python",
   "pygments_lexer": "ipython3",
   "version": "3.12.1"
  }
 },
 "nbformat": 4,
 "nbformat_minor": 2
}
